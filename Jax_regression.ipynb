{
 "cells": [
  {
   "cell_type": "code",
   "execution_count": null,
   "id": "deb96f96-7e1a-4ef7-8f56-76877652a3e7",
   "metadata": {},
   "outputs": [],
   "source": [
    "!pip install tensorflow"
   ]
  },
  {
   "cell_type": "code",
   "execution_count": 1,
   "id": "aa246101-05b3-410a-b4de-7e5bca366ad8",
   "metadata": {},
   "outputs": [
    {
     "ename": "ModuleNotFoundError",
     "evalue": "No module named 'tensorflow'",
     "output_type": "error",
     "traceback": [
      "\u001b[1;31m----------------------------------------------------------------\u001b[0m",
      "\u001b[1;31mModuleNotFoundError\u001b[0m            Traceback (most recent call last)",
      "Cell \u001b[1;32mIn[1], line 6\u001b[0m\n\u001b[0;32m      3\u001b[0m \u001b[38;5;28;01mimport\u001b[39;00m \u001b[38;5;21;01mjax\u001b[39;00m\n\u001b[0;32m      4\u001b[0m \u001b[38;5;28;01mimport\u001b[39;00m \u001b[38;5;21;01mjax\u001b[39;00m\u001b[38;5;21;01m.\u001b[39;00m\u001b[38;5;21;01mnumpy\u001b[39;00m \u001b[38;5;28;01mas\u001b[39;00m \u001b[38;5;21;01mjnp\u001b[39;00m\n\u001b[1;32m----> 6\u001b[0m \u001b[38;5;28;01mimport\u001b[39;00m \u001b[38;5;21;01mtensorflow\u001b[39;00m \u001b[38;5;28;01mas\u001b[39;00m \u001b[38;5;21;01mtf\u001b[39;00m\n\u001b[0;32m      7\u001b[0m \u001b[38;5;28;01mfrom\u001b[39;00m \u001b[38;5;21;01mtensorflow\u001b[39;00m\u001b[38;5;21;01m.\u001b[39;00m\u001b[38;5;21;01mkeras\u001b[39;00m\u001b[38;5;21;01m.\u001b[39;00m\u001b[38;5;21;01mdatasets\u001b[39;00m \u001b[38;5;28;01mimport\u001b[39;00m mnist\n\u001b[0;32m      8\u001b[0m \u001b[38;5;28;01mfrom\u001b[39;00m \u001b[38;5;21;01mcollections\u001b[39;00m \u001b[38;5;28;01mimport\u001b[39;00m namedtuple\n",
      "\u001b[1;31mModuleNotFoundError\u001b[0m: No module named 'tensorflow'"
     ]
    }
   ],
   "source": [
    "#import libraries\n",
    "import pandas as pd\n",
    "import jax\n",
    "import jax.numpy as jnp\n",
    "\n",
    "import tensorflow as tf\n",
    "from tensorflow.keras.datasets import mnist\n",
    "from collections import namedtuple"
   ]
  },
  {
   "cell_type": "code",
   "execution_count": 4,
   "id": "b6ce04bb-1f2f-413c-b280-e8b3e6a054ae",
   "metadata": {},
   "outputs": [],
   "source": [
    "test_data = pd.read_csv(\"train.csv\")\n",
    "train_data = pd.read_csv(\"train.csv\")\n",
    "\n",
    "pclasses = jnp.array(train_data['Pclass']).reshape((-1, 1))\n",
    "survived = jnp.array(train_data['Survived']).reshape((-1, 1))"
   ]
  },
  {
   "cell_type": "code",
   "execution_count": 5,
   "id": "40b3ce30-9914-49bc-974c-4843c75559dd",
   "metadata": {},
   "outputs": [],
   "source": [
    "# We need 2 parameter: weights (w) and bias (b) for the regrssion\n",
    "\n",
    "LogisticRegressionParams = namedtuple('LogisticRegressionParams', 'w b')"
   ]
  },
  {
   "cell_type": "code",
   "execution_count": 6,
   "id": "0116dbb0-28ec-4934-b1a1-413f5a195929",
   "metadata": {},
   "outputs": [],
   "source": [
    "#logistic function\n",
    "\n",
    "def sigmoid_predict(params: LogisticRegressionParams, x: jnp.array) -> jnp.array:\n",
    "    z = x.dot(params.w) + params.b\n",
    "    return jax.nn.sigmoid(z)"
   ]
  },
  {
   "cell_type": "code",
   "execution_count": 7,
   "id": "26cf0e10-4b40-4f71-bf67-b71f055e3b00",
   "metadata": {},
   "outputs": [],
   "source": [
    "#softmax function\n",
    "\n",
    "@jax.jit\n",
    "def softmax_predict(params: LogisticRegressionParams, x: jnp.array) -> jnp.array:\n",
    "    z = params.w.transpose() @ x + params.b\n",
    "    return jax.nn.softmax(z)"
   ]
  },
  {
   "cell_type": "code",
   "execution_count": 8,
   "id": "4a05aa9f-a4b4-4395-9426-1ff837718078",
   "metadata": {},
   "outputs": [],
   "source": [
    "# vectorize the functions\n",
    "\n",
    "sigmoid_vpredict = jax.vmap(sigmoid_predict,(None, 0))\n",
    "softmax_vpredict = jax.vmap(softmax_predict,(None, 0))"
   ]
  },
  {
   "cell_type": "code",
   "execution_count": 9,
   "id": "ea3b1c88-14a9-4195-96b2-4958c45ee9a9",
   "metadata": {},
   "outputs": [],
   "source": [
    "@jax.jit\n",
    "def crossent(params: jnp.array, features: jnp.array, labels: jnp.array) -> jnp.array:\n",
    "    predictions = sigmoid_vpredict(params, features)\n",
    "    a = labels * jnp.log(predictions)\n",
    "    b = (1.0 - labels) * jnp.log(1.0 - predictions)\n",
    "    return -jnp.mean(a + b)"
   ]
  },
  {
   "cell_type": "code",
   "execution_count": 10,
   "id": "02974ea3-5ef6-4070-bd7d-bfa5ef02ff94",
   "metadata": {},
   "outputs": [
    {
     "name": "stdout",
     "output_type": "stream",
     "text": [
      "2.227012\n",
      "0.7300361\n",
      "0.62537605\n",
      "0.62087697\n",
      "0.620122\n",
      "0.6195704\n",
      "0.61905324\n",
      "0.6185613\n",
      "0.6180927\n",
      "0.6176463\n"
     ]
    }
   ],
   "source": [
    "learning_rate = 1e-2\n",
    "sigmoid_params = LogisticRegressionParams(jnp.array(1.0), jnp.array(1.0))\n",
    "crossent_grad_fn = jax.grad(crossent)\n",
    "\n",
    "for i in range(1_000):\n",
    "    if i % 100 == 0:\n",
    "        print(crossent(sigmoid_params, pclasses, survived))\n",
    "    grads = crossent_grad_fn(sigmoid_params, pclasses, survived)\n",
    "    sigmoid_params = LogisticRegressionParams(sigmoid_params.w - learning_rate * grads.w, sigmoid_params.b - learning_rate * grads.b)"
   ]
  },
  {
   "cell_type": "code",
   "execution_count": 11,
   "id": "cbdf5650-548f-4fd3-b9dd-8088516bca03",
   "metadata": {},
   "outputs": [
    {
     "name": "stdout",
     "output_type": "stream",
     "text": [
      "accuracy is 67.90%\n"
     ]
    }
   ],
   "source": [
    "# see how it  performs\n",
    "preds = round(sigmoid_vpredict(sigmoid_params, pclasses))\n",
    "accuracy = 1.0 - abs(preds-survived).mean()\n",
    "print(f\"accuracy is {100.0*accuracy:.2f}%\")"
   ]
  },
  {
   "cell_type": "code",
   "execution_count": null,
   "id": "0b4871ff-4534-42af-8f6a-05924b192938",
   "metadata": {},
   "outputs": [],
   "source": []
  }
 ],
 "metadata": {
  "kernelspec": {
   "display_name": "Python 3 (ipykernel)",
   "language": "python",
   "name": "python3"
  },
  "language_info": {
   "codemirror_mode": {
    "name": "ipython",
    "version": 3
   },
   "file_extension": ".py",
   "mimetype": "text/x-python",
   "name": "python",
   "nbconvert_exporter": "python",
   "pygments_lexer": "ipython3",
   "version": "3.12.0"
  }
 },
 "nbformat": 4,
 "nbformat_minor": 5
}
