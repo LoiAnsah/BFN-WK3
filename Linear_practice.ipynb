{
 "cells": [
  {
   "cell_type": "code",
   "execution_count": 1,
   "id": "1ddb96f7-b963-48f4-8229-f13951097495",
   "metadata": {},
   "outputs": [],
   "source": [
    "import numpy as np"
   ]
  },
  {
   "cell_type": "code",
   "execution_count": 2,
   "id": "4b687763-cb08-4d44-9524-ef611567c6af",
   "metadata": {},
   "outputs": [],
   "source": [
    "#Create method\n",
    "\n",
    "class LogisticRegression:\n",
    "\n",
    "    def __init__(self, lr=0.001, n_iters=1000):\n",
    "        self.lr = lr\n",
    "        self.n_iters = n_iters\n",
    "        self.weights = None\n",
    "        self.bias =None\n",
    "\n",
    "#deal with training x: numpy nd vector\n",
    "    def fit(self, x, y):\n",
    "        #initialize parameters\n",
    "        n_samples, n_features = x.shape\n",
    "        self.weights = np.zeros(n_features)\n",
    "        self.bias = 0\n",
    "    \n",
    "        #gradient descent\n",
    "        for _ in range(self.n_iters):\n",
    "            linear_model = np.dot(x, self.weights) + self.bias\n",
    "            y_predicted = self.sigmoid(linear_model)\n",
    "\n",
    "            dw = (1/n_samples)* np.dot(x.T, (y_predicted-y))\n",
    "            db = (1/n_samples)* np.sum(y_predicted-y)\n",
    "\n",
    "            self.weights -= self.lr*dw\n",
    "            self.bias -= self.lr*db\n",
    "\n",
    "    #prediction method\n",
    "\n",
    "    def predict(self, x):\n",
    "        linear_model = np.dot(x, self.weights) + self.bias\n",
    "        y_predicted = self.sigmoid(linear_model)\n",
    "\n",
    "        y_predicted_cls = [1 if i> 0.5 else 0 for i in y_predicted]\n",
    "        return y_predicted_cls\n",
    "    \n",
    "\n",
    "\n",
    "    #sigmoid function\n",
    "    def sigmoid(self,x):\n",
    "        return (1/ (1+np.exp(-x)))"
   ]
  },
  {
   "cell_type": "code",
   "execution_count": 3,
   "id": "3df78278-e87a-48e4-b3e1-90c3d49a920a",
   "metadata": {},
   "outputs": [],
   "source": [
    "#testing the regression\n",
    "\n",
    "import numpy as np\n",
    "from sklearn.model_selection import train_test_split\n",
    "from sklearn import datasets\n",
    "import matplotlib.pyplot as plt\n",
    "\n"
   ]
  },
  {
   "cell_type": "code",
   "execution_count": 4,
   "id": "17539596-f0da-4e0f-bfc2-b8e88228d110",
   "metadata": {},
   "outputs": [
    {
     "name": "stdout",
     "output_type": "stream",
     "text": [
      "LR classification accuracy: 0.9298245614035088\n"
     ]
    }
   ],
   "source": [
    "#load breats data set for training\n",
    "bc = datasets.load_breast_cancer()\n",
    "x, y = bc.data, bc.target\n",
    "\n",
    "#split data\n",
    "x_train, x_test, y_train, y_test = train_test_split(x, y, test_size=0.2, random_state=1234)\n",
    "\n",
    "def accuracy(y_true, y_pred):\n",
    "    accuracy = np.sum(y_true == y_pred) / len(y_true)\n",
    "    return accuracy\n",
    "\n",
    "# creat LogisticRegression\n",
    "regressor = LogisticRegression(lr=0.0001, n_iters=1000)\n",
    "\n",
    "#fit the data\n",
    "regressor.fit(x_train, y_train)\n",
    "predictions = regressor.predict(x_test)\n",
    "\n",
    "print(\"LR classification accuracy:\", accuracy(y_test, predictions))"
   ]
  },
  {
   "cell_type": "code",
   "execution_count": null,
   "id": "5be82e7b-7f42-4acf-9f50-448fd6823eff",
   "metadata": {},
   "outputs": [],
   "source": []
  }
 ],
 "metadata": {
  "kernelspec": {
   "display_name": "Python 3 (ipykernel)",
   "language": "python",
   "name": "python3"
  },
  "language_info": {
   "codemirror_mode": {
    "name": "ipython",
    "version": 3
   },
   "file_extension": ".py",
   "mimetype": "text/x-python",
   "name": "python",
   "nbconvert_exporter": "python",
   "pygments_lexer": "ipython3",
   "version": "3.12.0"
  }
 },
 "nbformat": 4,
 "nbformat_minor": 5
}
